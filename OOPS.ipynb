{
  "nbformat": 4,
  "nbformat_minor": 0,
  "metadata": {
    "colab": {
      "provenance": []
    },
    "kernelspec": {
      "name": "python3",
      "display_name": "Python 3"
    },
    "language_info": {
      "name": "python"
    }
  },
  "cells": [
    {
      "cell_type": "markdown",
      "source": [
        "# Python OOPS : Theorical Questions"
      ],
      "metadata": {
        "id": "Ohc2mwGgNgVE"
      }
    },
    {
      "cell_type": "markdown",
      "source": [
        "1.  What is Object-Oriented Programming (OOP)?\n",
        "  - Object-Oriented Programming (OOP) is a programming approach based on the concept of “objects,” which can contain data (attributes or properties) and code (methods or functions). It allows for structuring programs so that properties and behaviors are bundled into individual objects. These are the concepts of OOP : Class, Object, Encapsulation, Inheritance, Polymorphism and Abstraction.\n",
        "  - Benefits of OOP:\n",
        "      - Improves code reusability through inheritance.\n",
        "      - Increases modularity and maintainability.\n",
        "      - Promotes data security using encapsulation."
      ],
      "metadata": {
        "id": "nrVCCwNbNvSJ"
      }
    },
    {
      "cell_type": "markdown",
      "source": [
        "2.  What is a class in OOP?\n",
        "  - A class is a blueprint or template for creating objects. It defines the attributes (data/properties) and methods (functions/behaviors) that the objects created from the class will have.\n",
        "  - Class is like an architectural plan for a house — the plan itself is not a house, but we can build many houses (objects) based on that plan."
      ],
      "metadata": {
        "id": "Gk_Dz06pRtXP"
      }
    },
    {
      "cell_type": "code",
      "source": [
        "# Example of class\n",
        "class Car: # Car is a class\n",
        "  def __init__(self, brand, color):\n",
        "    self.brand = brand # attribute\n",
        "    self.color = color # attribute\n",
        "\n",
        "  def start_car(self): # method\n",
        "    print(f\"The Car is started!\")\n",
        "\n",
        "car1 = Car(\"BMW\",\"Blue\") # creating object\n",
        "car1.start_car()"
      ],
      "metadata": {
        "colab": {
          "base_uri": "https://localhost:8080/"
        },
        "id": "VXLft2WOTMrP",
        "outputId": "da0addc8-97cb-4b52-8dbc-8181c54256f0"
      },
      "execution_count": null,
      "outputs": [
        {
          "output_type": "stream",
          "name": "stdout",
          "text": [
            "The Car is started!\n"
          ]
        }
      ]
    },
    {
      "cell_type": "markdown",
      "source": [
        "3.  What is an object in OOP?\n",
        "  - An object is an instance of a class.\n",
        "  - Objects are created from a class, and each object can hold different data, but they all follow the structure defined by the class."
      ],
      "metadata": {
        "id": "4ocQA-XZUgnE"
      }
    },
    {
      "cell_type": "code",
      "source": [
        "# Example of Object :\n",
        "class Dog: # Dog is a class\n",
        "  def __init__(self, name, breed):\n",
        "    self.name = name # attribute\n",
        "    self.breed = breed # attribute\n",
        "\n",
        "  def details_of_dog(self): # method\n",
        "    print(f\"Dog name is {self.name} and breed is {self.breed}.\")\n",
        "\n",
        "dog1 = Dog(\"Tommy\",\"German Shepherd\") # Creating object\n",
        "dog1.details_of_dog()"
      ],
      "metadata": {
        "colab": {
          "base_uri": "https://localhost:8080/"
        },
        "id": "L6Ds67w_Nuqw",
        "outputId": "613d5d7d-51e8-4c33-d838-7b29adbfa6fe"
      },
      "execution_count": null,
      "outputs": [
        {
          "output_type": "stream",
          "name": "stdout",
          "text": [
            "Dog name is Tommy and breed is German Shepherd.\n"
          ]
        }
      ]
    },
    {
      "cell_type": "markdown",
      "source": [
        "4. What is the difference between abstraction and encapsulation?\n",
        "  - Abstraction :     \n",
        "      - Definition : Hiding complex implementation details and showing only the essential features.\n",
        "      - Goal : To reduce complexity and increase efficiency.\n",
        "      - Focus : What an object does.\n",
        "      - How it's done: Using abstract classes or interfaces.\n",
        "  - Encapsulation :      \n",
        "      - Definition: Wrapping data (variables) and code (methods) together as a single unit.\n",
        "      - Goal : To protect the data and prevent it from unauthorized access.\n",
        "      - Focus : How the data is accessed and maintained.\n",
        "      - How it's done: Using private/protected variables and public methods (getters/setters)."
      ],
      "metadata": {
        "id": "EoPntrT_WbPS"
      }
    },
    {
      "cell_type": "code",
      "source": [
        "# Example of abstraction :\n",
        "import abc\n",
        "class Animal:\n",
        "  @abc.abstractmethod\n",
        "  def make_sound(seld):\n",
        "    pass\n",
        "\n",
        "class Dog(Animal):\n",
        "  def make_sound(self):\n",
        "    print(\"Woof\")\n",
        "\n",
        "dog = Dog()\n",
        "dog.make_sound() # Woof\n",
        "\n",
        "# Example of encapsulation :\n",
        "class Person:\n",
        "  def __init__(self,name):\n",
        "    self.__name = name\n",
        "\n",
        "  def get_name(self):\n",
        "    return self.__name\n",
        "\n",
        "person = Person(\"Dhruv\")\n",
        "print(person.get_name()) # Dhruv"
      ],
      "metadata": {
        "colab": {
          "base_uri": "https://localhost:8080/"
        },
        "id": "LF6waJZuWMke",
        "outputId": "0a292259-7264-41ad-b1b2-180f64499bfa"
      },
      "execution_count": null,
      "outputs": [
        {
          "output_type": "stream",
          "name": "stdout",
          "text": [
            "Woof\n",
            "Dhruv\n"
          ]
        }
      ]
    },
    {
      "cell_type": "markdown",
      "source": [
        "5.  What are dunder methods in Python?\n",
        "  - Dunder methods are methods in Python that have double underscores at the beginning and end of their names : so the name \"dunder\" (short for Double Underscore).\n",
        "  - It is also called as magic methods or special methods.\n",
        "  - Dunder methods are automatically called by Python when certain actions are performed on objects. For example, when you create an object from a class, Python calls the init method. When you print an object, it looks for the str method."
      ],
      "metadata": {
        "id": "ZuH1epPMfPTD"
      }
    },
    {
      "cell_type": "code",
      "source": [
        "# @title\n",
        "# Example of dunder method:\n",
        "class Student:\n",
        "  def __init__(self,name):\n",
        "    self.name = name\n",
        "\n",
        "  def __str__(self):\n",
        "    return f\"Student name is {self.name}.\"\n",
        "\n",
        "student = Student(\"Dhruv\")\n",
        "print(student) # it call the str method"
      ],
      "metadata": {
        "colab": {
          "base_uri": "https://localhost:8080/"
        },
        "id": "SSzclsV9gey3",
        "outputId": "8142c7c8-26aa-428e-daf3-2e933f7d7c98"
      },
      "execution_count": null,
      "outputs": [
        {
          "output_type": "stream",
          "name": "stdout",
          "text": [
            "Student name is Dhruv.\n"
          ]
        }
      ]
    },
    {
      "cell_type": "markdown",
      "source": [
        "6. Explain the concept of inheritance in OOP.\n",
        "  - Inheritance is one of the important concepts in Object-Oriented Programming. It allows a class (called the child or derived class) to inherit the properties and behaviors (attributes and methods) from another class (called the parent or base class).\n",
        "  - This helps us reuse code and avoid repetition, as the child class can use the features of the parent class and can also have its own additional features.\n",
        "  - Different types of inheritance : single inheritance, multi-level inheritance, multiple inheritance, hierarchical inheritance and hybrid inheritance."
      ],
      "metadata": {
        "id": "sWvpBu1shGF6"
      }
    },
    {
      "cell_type": "code",
      "source": [
        "# Example of simple inheritance :\n",
        "class Vehicle:\n",
        "  def show_type(self):\n",
        "    print(\"This is a vehicle.\")\n",
        "\n",
        "class Car(Vehicle):\n",
        "  def show_brand(self):\n",
        "    print(\"This is a BMW.\")\n",
        "\n",
        "car = Car()\n",
        "car.show_type()"
      ],
      "metadata": {
        "colab": {
          "base_uri": "https://localhost:8080/"
        },
        "id": "PwC-o4xOdXFC",
        "outputId": "c02d19bb-2287-4381-df1c-20a5cc8114b1"
      },
      "execution_count": null,
      "outputs": [
        {
          "output_type": "stream",
          "name": "stdout",
          "text": [
            "This is a vehicle.\n"
          ]
        }
      ]
    },
    {
      "cell_type": "markdown",
      "source": [
        "7. What is polymorphism in OOP?\n",
        "  - Poly means many and morphism means forms/states.\n",
        "  - Polymorphism refers to an object's capacity to assume several forms.\n",
        "  - Polymorphism allows us to use the same method name in different classes, but each class can perform a different action using that method. It makes the code more flexible and easier to extend.\n",
        "  - Polymorphism takes places in two ways :    \n",
        "      1. Method Overloading\n",
        "      2. Method Overriding  "
      ],
      "metadata": {
        "id": "wR5R-7lPj2lm"
      }
    },
    {
      "cell_type": "code",
      "source": [
        "# Simple example of polymorphism :\n",
        "class Animal:\n",
        "  def sound(self):\n",
        "    print(\"Animal makes a sound.\")\n",
        "\n",
        "class Cat(Animal):\n",
        "  def sound(self):\n",
        "    print(\"Cat meows.\")\n",
        "cat = Cat()\n",
        "cat.sound()\n",
        "# This is an example of method overriding."
      ],
      "metadata": {
        "colab": {
          "base_uri": "https://localhost:8080/"
        },
        "id": "cbaBgWhmjv5s",
        "outputId": "7ef13005-4e9b-49c6-eebe-a9d89bf2d2d9"
      },
      "execution_count": null,
      "outputs": [
        {
          "output_type": "stream",
          "name": "stdout",
          "text": [
            "Cat meows.\n"
          ]
        }
      ]
    },
    {
      "cell_type": "markdown",
      "source": [
        "8. How is encapsulation achieved in Python?\n",
        "  - Encapsulation in Python is achieved by restricting direct access to some parts of an object, which helps to protect the internal state of the object. It is done using access modifier.\n",
        "  - Access modifier :    \n",
        "      - Public : Accessible from anywhere (default).\n",
        "      - Protected : Prefix with a single underscore _, meant for internal use but it can still be accessed.\n",
        "      - Private : Prefix with double underscores. Python renames the variable in the background to protect it, so it can't be easily accessed from outside the class."
      ],
      "metadata": {
        "id": "NIP3xTt_nAEc"
      }
    },
    {
      "cell_type": "code",
      "source": [
        "# Example of encapsulation :\n",
        "class Student:\n",
        "  def __init__(self, name, age):\n",
        "    self.name = name # public\n",
        "    self._age = age  # protected\n",
        "    self.__marks = 95 # private\n",
        "\n",
        "  def get_marks(self):\n",
        "    return self.__marks\n",
        "\n",
        "student = Student(\"Dhruv\", 22)\n",
        "print(student.name) # Public access\n",
        "print(student._age) # Protected access (not recommended)\n",
        "#print(student.__marks) # Will give error (private)\n",
        "print(student.get_marks()) # Accessed via method"
      ],
      "metadata": {
        "colab": {
          "base_uri": "https://localhost:8080/"
        },
        "id": "RYz5dGzQpHn1",
        "outputId": "a4ccd26c-075a-42cf-dd17-1d29088ebcd7"
      },
      "execution_count": null,
      "outputs": [
        {
          "output_type": "stream",
          "name": "stdout",
          "text": [
            "Dhruv\n",
            "22\n",
            "95\n"
          ]
        }
      ]
    },
    {
      "cell_type": "markdown",
      "source": [
        "9.  What is a constructor in Python?\n",
        "  - A constructor in Python is a special method used to initialize objects of a class. It gets automatically called when we create an object.\n",
        "  - The constructor method is named __ init __.\n",
        "  - It is used to set the initial values of object properties.\n",
        "  - It allows each object to start with specific data."
      ],
      "metadata": {
        "id": "7sULw5j6rbTr"
      }
    },
    {
      "cell_type": "code",
      "source": [
        "# Example of constructor\n",
        "class Vehicle:\n",
        "  def __init__(self, name, color):\n",
        "    self.name = name\n",
        "    self.color = color\n",
        "car = Vehicle(\"Tata\",\"White\")\n",
        "print(\"Car name:\", car.name)\n",
        "print(\"Car color:\", car.color)"
      ],
      "metadata": {
        "colab": {
          "base_uri": "https://localhost:8080/"
        },
        "id": "GLpHD-fxmc3Y",
        "outputId": "e47bbe43-035e-4f32-c885-46c14942b8e6"
      },
      "execution_count": null,
      "outputs": [
        {
          "output_type": "stream",
          "name": "stdout",
          "text": [
            "Car name: Tata\n",
            "Car color: White\n"
          ]
        }
      ]
    },
    {
      "cell_type": "markdown",
      "source": [
        "10. What are class and static methods in Python?\n",
        "  - Class methods and static methods are two types of methods that belong to a class but behave differently from regular instance methods.\n",
        "  - Class Method :    \n",
        "      - Defined using @classmethod decorator.\n",
        "      - Takes cls as the first argument instead of self.\n",
        "      - Can access and modify class-level data.\n",
        "      - Can be called using the class name or an object.\n",
        "  - Static Method :     \n",
        "      - Defined using @staticmethod decorator.\n",
        "      - Does not take self or cls as a parameter.\n",
        "      - Cannot access instance or class-level data.\n",
        "      - Used when some utility function is related to the class but doesn't need class or instance data."
      ],
      "metadata": {
        "id": "DguAkneTtYhe"
      }
    },
    {
      "cell_type": "code",
      "source": [
        "# Example of class method :\n",
        "class Student:\n",
        "  total_students = 0\n",
        "\n",
        "  def __init__(self, name):\n",
        "    self.name = name\n",
        "    Student.total_students = Student.total_students + 1\n",
        "\n",
        "  @classmethod\n",
        "  def get_total_students(cls):\n",
        "    return cls.total_students\n",
        "\n",
        "student1 = Student(\"Raj\")\n",
        "student2 = Student(\"Ravi\")\n",
        "print(\"Total students:\",Student.total_students)\n",
        "\n",
        "# Example of Static Method\n",
        "class Calculator:\n",
        "  @staticmethod\n",
        "  def add(a, b):\n",
        "    return a + b\n",
        "\n",
        "print(Calculator.add(5,6))"
      ],
      "metadata": {
        "colab": {
          "base_uri": "https://localhost:8080/"
        },
        "id": "N9No8WiStHaI",
        "outputId": "14c48813-90c1-446b-dafb-d4d26a3d0967"
      },
      "execution_count": null,
      "outputs": [
        {
          "output_type": "stream",
          "name": "stdout",
          "text": [
            "Total students: 2\n",
            "11\n"
          ]
        }
      ]
    },
    {
      "cell_type": "markdown",
      "source": [
        "11.  What is method overloading in Python?\n",
        "  - Method overloading means defining multiple methods with the same name but different parameters (number or type). It allows a method to behave differently depending on the arguments passed.\n",
        "  - Unlike some other languages (like Java), Python does not support method overloading directly. If we define a method with the same name multiple times in a class, only the last one will be used.\n",
        "  - But we can achieve similar behavior using default parameters or *args to handle multiple cases in one method."
      ],
      "metadata": {
        "id": "hg_z1b2eyKwC"
      }
    },
    {
      "cell_type": "code",
      "source": [
        "# Example of method overloading using *args\n",
        "class Math:\n",
        "  def add(self, *args):\n",
        "    return sum(args)\n",
        "\n",
        "m = Math()\n",
        "print(m.add(1,2,3,4))\n",
        "print(m.add(1,2))"
      ],
      "metadata": {
        "colab": {
          "base_uri": "https://localhost:8080/"
        },
        "id": "7QFapinexAZI",
        "outputId": "2f88b451-22e1-48f3-e1ef-44bae2180a01"
      },
      "execution_count": null,
      "outputs": [
        {
          "output_type": "stream",
          "name": "stdout",
          "text": [
            "10\n",
            "3\n"
          ]
        }
      ]
    },
    {
      "cell_type": "markdown",
      "source": [
        "12. What is method overriding in OOP?\n",
        "  - Method Overriding happens when a child class defines a method with the same name and same parameters as a method in its parent class and provides a new implementation for it.\n",
        "  - It allows a subclass to modify or completely replace a behavior inherited from the parent class."
      ],
      "metadata": {
        "id": "5Cl2w9gVzkuY"
      }
    },
    {
      "cell_type": "code",
      "source": [
        "# Example of method overriding :\n",
        "class Animal:\n",
        "  def speak(self):\n",
        "    print(\"The animal makes a sound.\")\n",
        "\n",
        "class Dog(Animal):\n",
        "  def speak(self): # Overriding the speak method of Animal\n",
        "    print(\"The dog barks.\")\n",
        "\n",
        "dog = Dog()\n",
        "dog.speak()"
      ],
      "metadata": {
        "colab": {
          "base_uri": "https://localhost:8080/"
        },
        "id": "IAWatgyXzhMY",
        "outputId": "d132e2b8-6a6a-4147-d560-c93fb5fe69a1"
      },
      "execution_count": null,
      "outputs": [
        {
          "output_type": "stream",
          "name": "stdout",
          "text": [
            "The dog barks.\n"
          ]
        }
      ]
    },
    {
      "cell_type": "markdown",
      "source": [
        "13. What is a property decorator in Python?\n",
        "  - The property decorator in Python is used to turn a method into a read-only property.\n",
        "  - It allows us to access a method like an attribute without using parentheses.\n",
        "  - It encapsulates the internal data.\n",
        "  - It makes our class interface clean and user-friendly."
      ],
      "metadata": {
        "id": "YaORGNmm0yC8"
      }
    },
    {
      "cell_type": "code",
      "source": [
        "# Example of property decorator\n",
        "class Circle:\n",
        "  def __init__(self, radius):\n",
        "    self.radius = radius\n",
        "\n",
        "  @property\n",
        "  def area(self):\n",
        "    return 3.14 * self.radius ** 2\n",
        "\n",
        "c = Circle(5)\n",
        "print(c.area)"
      ],
      "metadata": {
        "colab": {
          "base_uri": "https://localhost:8080/"
        },
        "id": "dT_Mpnmn0vsX",
        "outputId": "18fc3581-16b1-413f-cdfa-238e22c14b7f"
      },
      "execution_count": null,
      "outputs": [
        {
          "output_type": "stream",
          "name": "stdout",
          "text": [
            "78.5\n"
          ]
        }
      ]
    },
    {
      "cell_type": "markdown",
      "source": [
        "14. Why is polymorphism important in OOP?\n",
        "  - Polymorphism is important in Object-Oriented Programming because it allows objects of different classes to be treated as objects of a common superclass. This brings flexibility, reusability, and scalability to our code.\n",
        "  - Key Benefits :\n",
        "      - Code Reusability : We can write one function or method that works with objects of different types.\n",
        "      - Improved Maintainability : Adding new classes or methods doesn't require changing existing code.\n",
        "      - Flexibility and Extensibility : Makes it easy to introduce new behaviors without altering existing logic.\n",
        "      - Cleaner Code : avoids long conditional statements by relying on common interfaces."
      ],
      "metadata": {
        "id": "DP5GCZUS2YPp"
      }
    },
    {
      "cell_type": "markdown",
      "source": [
        "15.  What is an abstract class in Python?\n",
        "  - An abstract class in Python is a class that cannot be instantiated directly.\n",
        "  - It is used as a blueprint for other classes.\n",
        "  - It is used to create a template-like system where child classes must fill in the blanks.\n",
        "  - It is defined using the ABC (Abstract Base Class) module.\n",
        "  - It can contain abstract methods, which are methods declared but not implemented.\n",
        "  - Methods must be implemented by any subclass that inherits from the abstract class.\n",
        "  - Abstract methods are created using the @abstractmethod decorator.\n",
        "  - We cannot create an object of an abstract class.\n",
        "  - Subclasses must override all abstract methods."
      ],
      "metadata": {
        "id": "WiAsjt9s59VM"
      }
    },
    {
      "cell_type": "code",
      "source": [
        "# example of abstract class\n",
        "from abc import ABC, abstractmethod\n",
        "\n",
        "class Company(ABC):\n",
        "\n",
        "  @abstractmethod\n",
        "  def employee_details(self):\n",
        "    pass\n",
        "class Employee(Company):\n",
        "  def employee_details(self):\n",
        "    return (\"Employee details are here\")\n",
        "\n",
        "employee = Employee()\n",
        "print(employee.employee_details())"
      ],
      "metadata": {
        "colab": {
          "base_uri": "https://localhost:8080/"
        },
        "id": "eox3UVRt2Rkw",
        "outputId": "bdd3dd38-2ec4-4236-9d7b-5188d470c882"
      },
      "execution_count": null,
      "outputs": [
        {
          "output_type": "stream",
          "name": "stdout",
          "text": [
            "Employee details are here\n"
          ]
        }
      ]
    },
    {
      "cell_type": "markdown",
      "source": [
        "16.  What are the advantages of OOP?\n",
        "  - Object-Oriented Programming offers several benefits :      \n",
        "  - Modularity : Code is organized into classes and objects, which makes it easier to divide and conquer during development.\n",
        "  - Reusability : Inheritance allows you to reuse existing code without rewriting it.\n",
        "  - Scalability and Maintainability : Code is easier to update and maintain because it is organized around real-world entities. Changes can be made in one class without affecting the whole system.\n",
        "  - Encapsulation : Data and methods are bundled together, hiding the internal state of an object and only exposing necessary parts and this prevents unauthorized access or modification of internal data.\n",
        "  - Abstraction : Focuses on what an object does instead of how it does it.\n",
        "  - Polymorphism : Different classes can define methods with the same name but different behaviors.\n",
        "\n",
        "\n"
      ],
      "metadata": {
        "id": "CBcMKguE9a91"
      }
    },
    {
      "cell_type": "markdown",
      "source": [
        "17. What is the difference between a class variable and an instance variable?\n",
        "  - Class variable :      \n",
        "      - Shared by all objects of the class.\n",
        "      - Defined inside the class, but outside any method.\n",
        "      - Changing the class variable affects all instances, unless overridden.\n",
        "  - Instance variable :      \n",
        "      - Unique to each object.\n",
        "      - Defined inside methods, usually in init using self.\n",
        "      - Changing the instance variable only affects that particular object."
      ],
      "metadata": {
        "id": "SrSRfT03_61I"
      }
    },
    {
      "cell_type": "code",
      "source": [
        "# Example of class and instance variables :\n",
        "class Dog:\n",
        "  species = \"Labrador\" # class variable\n",
        "\n",
        "  def __init__(self,name):\n",
        "    self.name = name # instance variable\n",
        "\n",
        "dog1 = Dog(\"Tommy\")\n",
        "print(\"Dog1 species:\", dog1.species)\n",
        "print(\"Dog1 name:\", dog1.name)\n",
        "\n",
        "dog2 = Dog(\"Buddy\")\n",
        "print(\"Dog2 species:\", dog2.species)\n",
        "print(\"Dog2 name:\", dog2.name)"
      ],
      "metadata": {
        "colab": {
          "base_uri": "https://localhost:8080/"
        },
        "id": "Eb6tN9in8-tz",
        "outputId": "c7e9c252-4900-42ce-f0e4-16a0d8b8d8e8"
      },
      "execution_count": null,
      "outputs": [
        {
          "output_type": "stream",
          "name": "stdout",
          "text": [
            "Dog1 species: Labrador\n",
            "Dog1 name: Tommy\n",
            "Dog2 species: Labrador\n",
            "Dog2 name: Buddy\n"
          ]
        }
      ]
    },
    {
      "cell_type": "markdown",
      "source": [
        "18. What is multiple inheritance in Python?\n",
        "  - Multiple Inheritance in python is a type of inheritance where a class can inherit attributes and methods from more than one parent class.\n",
        "  - In simple meaning, child class can have multiple parents.\n",
        "  - It is used to combine behaviors from multiple classes which help to reuse code from more than one source."
      ],
      "metadata": {
        "id": "E-A8HE-FCbHD"
      }
    },
    {
      "cell_type": "code",
      "source": [
        "#Example of multiple inheritance :\n",
        "class Father:\n",
        "   def father_skills(self):\n",
        "    print(\"Driving, leadership and time management\")\n",
        "\n",
        "class Mother:\n",
        "  def mother_skills(self):\n",
        "    print(\"Cooking, negotiation and Empathy\")\n",
        "\n",
        "class child(Father, Mother):\n",
        "  pass\n",
        "\n",
        "c = child()\n",
        "c.father_skills()\n",
        "c.mother_skills()"
      ],
      "metadata": {
        "colab": {
          "base_uri": "https://localhost:8080/"
        },
        "id": "SfcdvWXTB9xD",
        "outputId": "69bf60b2-c794-405c-a8c5-4985585eef61"
      },
      "execution_count": null,
      "outputs": [
        {
          "output_type": "stream",
          "name": "stdout",
          "text": [
            "Driving, leadership and time management\n",
            "Cooking, negotiation and Empathy\n"
          ]
        }
      ]
    },
    {
      "cell_type": "markdown",
      "source": [
        "19. Explain the purpose of __ str __ and __ repr __ methods in Python.\n",
        "  - The __ str __ and __ repr __ methods are special (dunder) methods that are used to define how an object is represented as a string.\n",
        "  - __ str __ : For Readable / End - User Output\n",
        "      - This is used when you print an object.\n",
        "      - It should return a string that is easy to read and understand.\n",
        "  - __ repr __ : For Developer / Debugging\n",
        "      - This is used when you see the object in code or debugging.\n",
        "      - It should return a string that shows how the object is made."
      ],
      "metadata": {
        "id": "B5leU28BFPDK"
      }
    },
    {
      "cell_type": "code",
      "source": [
        "# Example of str and repr method\n",
        "class Dog:\n",
        "  def __init__(self, name):\n",
        "    self.name = name\n",
        "\n",
        "  def __str__(self):\n",
        "    return f\"This is {self.name}.\"\n",
        "\n",
        "  def __repr__(self):\n",
        "    return f\"Dog({self.name})\"\n",
        "\n",
        "dog = Dog(\"Sweety\")\n",
        "print(dog)\n",
        "print(repr(dog))"
      ],
      "metadata": {
        "colab": {
          "base_uri": "https://localhost:8080/"
        },
        "id": "XfpjxFIcFIKz",
        "outputId": "37349fd9-4784-47bd-a2a3-dffae9bf4e92"
      },
      "execution_count": null,
      "outputs": [
        {
          "output_type": "stream",
          "name": "stdout",
          "text": [
            "This is Sweety.\n",
            "Dog(Sweety)\n"
          ]
        }
      ]
    },
    {
      "cell_type": "markdown",
      "source": [
        "20. What is the significance of the super() function in Python?\n",
        "  - The super() function in Python is used to access attributes defined in the parent class constructor and to access parent methods that have been overridden in the child class.\n",
        "  - It helps reuse code from the parent class without rewriting it.\n",
        "  - It's especially useful when working with inheritance, so child classes can build on top of the parent class logic."
      ],
      "metadata": {
        "id": "IP5BaNZEIiKo"
      }
    },
    {
      "cell_type": "code",
      "source": [
        "# Example of super\n",
        "class College:\n",
        "  def __init__(self):\n",
        "    self.college_name = \"IIT\"\n",
        "  def college_details(self):\n",
        "    return \"It is very famous institute in india.\"\n",
        "class Student(College):\n",
        "  def __init__(self, name):\n",
        "    self.name = name\n",
        "    super().__init__()\n",
        "  def college_details(self):\n",
        "    print(f\"{self.name} is studied in {self.college_name} and {super().college_details()}\")\n",
        "\n",
        "stud = Student(\"Dhaval\")\n",
        "stud.college_details()"
      ],
      "metadata": {
        "colab": {
          "base_uri": "https://localhost:8080/"
        },
        "id": "I4oObdZNIJ5_",
        "outputId": "c2e12cb5-26ef-461f-f2fc-6bd66d21de81"
      },
      "execution_count": null,
      "outputs": [
        {
          "output_type": "stream",
          "name": "stdout",
          "text": [
            "Dhaval is studied in IIT and It is very famous institute in india.\n"
          ]
        }
      ]
    },
    {
      "cell_type": "markdown",
      "source": [
        "21. What is the significance of the __ del __ method in Python?\n",
        "  - The del method is a special/dunder method in Python (also called destructor method) that gets automatically called when an object is about to be destroyed : meaning when it's no longer used.\n",
        "  - It's used to clean up resources before the object is completely deleted from memory.\n",
        "  - But, python has automatic garbage collection, so we usually don't need to use __ del __."
      ],
      "metadata": {
        "id": "ToR_-dxvhDz7"
      }
    },
    {
      "cell_type": "code",
      "source": [
        "# Example of __del__\n",
        "class Demo:\n",
        "  def __init__(self, name):\n",
        "    self.name = name\n",
        "    print(f\"{self.name} object is created.\")\n",
        "\n",
        "  def __del__(self):\n",
        "    print(f\"{self.name} object is being deleted.\")\n",
        "\n",
        "obj = Demo(\"demo\") # Creating the object\n",
        "del obj # Manually deleting it, triggers __del__()"
      ],
      "metadata": {
        "colab": {
          "base_uri": "https://localhost:8080/"
        },
        "id": "XVP9Lqz4Ucu6",
        "outputId": "ec3efc46-955f-4a5d-da43-cd91fa7bc1b2"
      },
      "execution_count": null,
      "outputs": [
        {
          "output_type": "stream",
          "name": "stdout",
          "text": [
            "demo object is created.\n",
            "demo object is being deleted.\n"
          ]
        }
      ]
    },
    {
      "cell_type": "markdown",
      "source": [
        "22. What is the difference between @staticmethod and @classmethod in Python?\n",
        "  - @staticmethod :      \n",
        "      - Doesn't take self or cls as a parameter.\n",
        "      - Belongs to the class, but doesn't access the class or instance.\n",
        "      - Acts like a regular function but sits inside a class for organizational purposes.\n",
        "  - @classmethod :     \n",
        "      - Takes cls as the first argument, not self.\n",
        "      - Can access or modify class variables, but not instance variables.\n",
        "      - It's bound to the class, not to a specific object."
      ],
      "metadata": {
        "id": "2lcacU-bkaYk"
      }
    },
    {
      "cell_type": "code",
      "source": [
        "# Example of static method :\n",
        "class Math:\n",
        "  @staticmethod\n",
        "  def add(x,y):\n",
        "    return x + y\n",
        "\n",
        "print(Math.add(8,8))\n",
        "\n",
        "# Example of class method\n",
        "class Person:\n",
        "  hobby = \"Reading\"\n",
        "\n",
        "  def __init__(self, name):\n",
        "    self.name = name\n",
        "\n",
        "  @classmethod\n",
        "  def change_hobby(cls, new_hobby):\n",
        "    cls.hobby = new_hobby\n",
        "\n",
        "Person.change_hobby(\"Dancing\")\n",
        "print(Person.hobby)"
      ],
      "metadata": {
        "colab": {
          "base_uri": "https://localhost:8080/"
        },
        "id": "7-y-NEOukAI8",
        "outputId": "6736ea2b-b4e3-4f02-f851-a5fae20bf07e"
      },
      "execution_count": null,
      "outputs": [
        {
          "output_type": "stream",
          "name": "stdout",
          "text": [
            "16\n",
            "Dancing\n"
          ]
        }
      ]
    },
    {
      "cell_type": "markdown",
      "source": [
        "23. How does polymorphism work in Python with inheritance?\n",
        "  - Polymorphism means many forms.\n",
        "  - It refers to the ability of different classes to be treated as if they are the same type — usually by sharing a common parent class.\n",
        "  - How it work with inheritance :  When child classes inherit from a parent class, they can override the parent class methods. Then we can call the same method name on different objects and each will behave according to its class."
      ],
      "metadata": {
        "id": "251iXFfTmo19"
      }
    },
    {
      "cell_type": "code",
      "source": [
        "# Example of polymorphism with inheritance\n",
        "class Animal:\n",
        "  def speak(self):\n",
        "    return \"some animal sound\"\n",
        "\n",
        "class Dog(Animal):\n",
        "  def speak(self):\n",
        "    return \"woof!\"\n",
        "\n",
        "class Cat(Animal):\n",
        "  def speak(self):\n",
        "    return \"Meow!\"\n",
        "\n",
        "dog = Dog()\n",
        "cat = Cat()\n",
        "print(dog.speak())\n",
        "print(cat.speak())"
      ],
      "metadata": {
        "colab": {
          "base_uri": "https://localhost:8080/"
        },
        "id": "znqRf9q2lnxc",
        "outputId": "1159ff19-619a-460d-9916-22711c05ecde"
      },
      "execution_count": null,
      "outputs": [
        {
          "output_type": "stream",
          "name": "stdout",
          "text": [
            "woof!\n",
            "Meow!\n"
          ]
        }
      ]
    },
    {
      "cell_type": "markdown",
      "source": [
        "24. What is method chaining in Python OOP?\n",
        "  - Method chaining is a technique in Python where multiple methods are called on the same object in a single line of code. This is made possible when each method returns the object itself (self), allowing the next method to be called."
      ],
      "metadata": {
        "id": "JI1W7utXo6ew"
      }
    },
    {
      "cell_type": "code",
      "source": [
        "# Example of method chaining\n",
        "class Person:\n",
        "  def __init__(self, name):\n",
        "    self.name = name\n",
        "    self.age = 0\n",
        "\n",
        "  def set_age(self, age):\n",
        "    self.age = age\n",
        "    return self\n",
        "\n",
        "  def greet(self):\n",
        "    return f\"Hello, I am {self.name} and I am {self.age} years old.\"\n",
        "\n",
        "person = Person(\"Dhruv\")\n",
        "print(person.set_age(22).greet())"
      ],
      "metadata": {
        "colab": {
          "base_uri": "https://localhost:8080/"
        },
        "id": "Miw-H8NSoi17",
        "outputId": "835d9b37-95b7-41af-8a62-8ad795ecc95d"
      },
      "execution_count": null,
      "outputs": [
        {
          "output_type": "stream",
          "name": "stdout",
          "text": [
            "Hello, I am Dhruv and I am 22 years old.\n"
          ]
        }
      ]
    },
    {
      "cell_type": "markdown",
      "source": [
        "25. What is the purpose of the __ call __ method in Python?\n",
        "  - The call method in Python allows an instance of a class to be called as if it were a function.\n",
        "  - When we define the call method in a class, we can use the object (an instance of the class) like a function — with parentheses and arguments.\n",
        "  - Use cases :    \n",
        "      - Function wrappers or decorators.\n",
        "      - Classes that behave like functions.\n",
        "      - Frameworks (like in Django) often use call to handle requests dynamically."
      ],
      "metadata": {
        "id": "2saksmbEqjsF"
      }
    },
    {
      "cell_type": "code",
      "source": [
        "# Example of call method\n",
        "class Adder:\n",
        "  def __init__(self, value):\n",
        "    self.value = value\n",
        "\n",
        "  def __call__(self, num):\n",
        "    return self.value + num\n",
        "\n",
        "adder = Adder(5) # Creating an object\n",
        "result = adder(10) # Object like a function\n",
        "print(result)"
      ],
      "metadata": {
        "colab": {
          "base_uri": "https://localhost:8080/"
        },
        "id": "NAaxKj6gqYrj",
        "outputId": "081de472-88b1-4e27-e3b9-b8c757c6a6f7"
      },
      "execution_count": null,
      "outputs": [
        {
          "output_type": "stream",
          "name": "stdout",
          "text": [
            "15\n"
          ]
        }
      ]
    },
    {
      "cell_type": "markdown",
      "source": [
        "# Python OOPS : Practical Questions"
      ],
      "metadata": {
        "id": "Ws7evMna4W3G"
      }
    },
    {
      "cell_type": "code",
      "source": [
        "#1. Create a parent class Animal with a method speak() that prints a generic message. Create a child class Dog that overrides the speak() method to print \"Bark!\".\n",
        "# Parent class\n",
        "class Animal:\n",
        "  def speak(self):\n",
        "    print(\"Animal sound.\")\n",
        "\n",
        "# Child class\n",
        "class Dog(Animal):\n",
        "  def speak(self):\n",
        "    print(\"Bark!\")\n",
        "\n",
        "dog = Dog()\n",
        "dog.speak()"
      ],
      "metadata": {
        "colab": {
          "base_uri": "https://localhost:8080/"
        },
        "id": "jlHsUD9u4mtT",
        "outputId": "ef063154-a0cb-4b20-f03e-8b6bbfeef232"
      },
      "execution_count": null,
      "outputs": [
        {
          "output_type": "stream",
          "name": "stdout",
          "text": [
            "Bark!\n"
          ]
        }
      ]
    },
    {
      "cell_type": "code",
      "source": [
        "#2. Write a program to create an abstract class Shape with a method area(). Derive classes Circle and Rectangle from it and implement the area() method in both.\n",
        "import abc\n",
        "# Abstract class\n",
        "class Shape:\n",
        "  @abc.abstractmethod\n",
        "  def area(self):\n",
        "    pass\n",
        "\n",
        "# Circle class\n",
        "class Circle(Shape):\n",
        "  def __init__(self,radius):\n",
        "    self.radius = radius\n",
        "\n",
        "  def area(self):\n",
        "    return 3.14 * self.radius ** 2\n",
        "\n",
        "# Rectangle class\n",
        "class Rectangle(Shape):\n",
        "  def __init__(self, length, width):\n",
        "    self.length = length\n",
        "    self.width = width\n",
        "\n",
        "  def area(self):\n",
        "    return self.length * self.width\n",
        "\n",
        "circle = Circle(5)\n",
        "rectangle = Rectangle(3,6)\n",
        "\n",
        "print(\"Circle Area:\", circle.area())\n",
        "print(\"Rectangle Area:\", rectangle.area())"
      ],
      "metadata": {
        "colab": {
          "base_uri": "https://localhost:8080/"
        },
        "id": "PtyXhF5D5MbQ",
        "outputId": "294453bc-f598-43a5-baa6-9b59b109f734"
      },
      "execution_count": null,
      "outputs": [
        {
          "output_type": "stream",
          "name": "stdout",
          "text": [
            "Circle Area: 78.5\n",
            "Rectangle Area: 18\n"
          ]
        }
      ]
    },
    {
      "cell_type": "code",
      "source": [
        "#3. Implement a multi-level inheritance scenario where a class Vehicle has an attribute type. Derive a class Car and further derive a class ElectricCar that adds a battery attribute.\n",
        "# Base class\n",
        "class Vehicle:\n",
        "  def __init__(self):\n",
        "    self.vehicle_type = \"Four Wheeler\"\n",
        "\n",
        "  def show_type(self):\n",
        "    print(\"Vehicle type:\",self.vehicle_type)\n",
        "\n",
        "# Derive class 1\n",
        "class Car(Vehicle):\n",
        "  def __init__(self, brand):\n",
        "    super().__init__()\n",
        "    self.brand = brand\n",
        "\n",
        "  def show_brand(self):\n",
        "    print(\"Brand:\", self.brand)\n",
        "\n",
        "# Derive class 2\n",
        "class ElectricCar(Car):\n",
        "  def __init__(self, brand, battery):\n",
        "    super().__init__(brand)\n",
        "    self.battery = battery\n",
        "\n",
        "  def show_battery(self):\n",
        "    print(\"Battery:\", self.battery, \"KWH\")\n",
        "\n",
        "my_car = ElectricCar(\"Tata\", 50)\n",
        "\n",
        "my_car.show_type()\n",
        "my_car.show_brand()\n",
        "my_car.show_battery()"
      ],
      "metadata": {
        "colab": {
          "base_uri": "https://localhost:8080/"
        },
        "id": "UZv7qOMY7lgc",
        "outputId": "53d2c879-ddd8-4793-b898-977d2616650e"
      },
      "execution_count": null,
      "outputs": [
        {
          "output_type": "stream",
          "name": "stdout",
          "text": [
            "Vehicle type: Four Wheeler\n",
            "Brand: Tata\n",
            "Battery: 50 KWH\n"
          ]
        }
      ]
    },
    {
      "cell_type": "code",
      "source": [
        "#4. Demonstrate polymorphism by creating a base class Bird with a method fly(). Create two derived classes Sparrow and Penguin that override the fly() method.\n",
        "# Base class\n",
        "class Bird:\n",
        "  def fly(self):\n",
        "    print(\"Bird can fly.\")\n",
        "\n",
        "# Derived class 1\n",
        "class Sparrow(Bird):\n",
        "  def fly(self):\n",
        "    print(\"Sparrow flies high in the sky.\")\n",
        "\n",
        "# Derived class 2\n",
        "class Penguin(Bird):\n",
        "  def fly(self):\n",
        "    print(\"Penguins cannot fly.\")\n",
        "\n",
        "sparrow = Sparrow()\n",
        "penguin = Penguin()\n",
        "\n",
        "sparrow.fly()\n",
        "penguin.fly()"
      ],
      "metadata": {
        "colab": {
          "base_uri": "https://localhost:8080/"
        },
        "id": "zQdS9_eX_GWU",
        "outputId": "044414df-26a3-4933-8af2-d3d2f4e21164"
      },
      "execution_count": null,
      "outputs": [
        {
          "output_type": "stream",
          "name": "stdout",
          "text": [
            "Sparrow flies high in the sky.\n",
            "Penguins cannot fly.\n"
          ]
        }
      ]
    },
    {
      "cell_type": "code",
      "source": [
        "#5. Write a program to demonstrate encapsulation by creating a class BankAccount with private attributes balance and methods to deposit, withdraw, and check balance.\n",
        "class BankAccount:\n",
        "  def __init__(self, balance):\n",
        "    self.__balance = balance\n",
        "\n",
        "  def deposit(self, amount):\n",
        "    self.__balance = self.__balance + amount\n",
        "    print(f\"Deposited: {amount}\")\n",
        "\n",
        "  def withdraw(self, amount):\n",
        "    if(amount <= self.__balance):\n",
        "      self.__balance = self.__balance - amount\n",
        "      print(f\"Withdrawn: {amount}\")\n",
        "    else:\n",
        "      print(\"Insufficient balance or invalid amount!\")\n",
        "\n",
        "  def check_balance(self):\n",
        "    return f\"Balance: {self.__balance}\"\n",
        "\n",
        "account =BankAccount(1000)\n",
        "print(account.check_balance())\n",
        "account.deposit(500)\n",
        "print(account.check_balance())\n",
        "account.withdraw(450)\n",
        "print(account.check_balance())"
      ],
      "metadata": {
        "colab": {
          "base_uri": "https://localhost:8080/"
        },
        "id": "8dRbI3ipDRaj",
        "outputId": "da24a2de-5ec5-4a7f-df2b-243eb25519e5"
      },
      "execution_count": null,
      "outputs": [
        {
          "output_type": "stream",
          "name": "stdout",
          "text": [
            "Balance: 1000\n",
            "Deposited: 500\n",
            "Balance: 1500\n",
            "Withdrawn: 450\n",
            "Balance: 1050\n"
          ]
        }
      ]
    },
    {
      "cell_type": "code",
      "source": [
        "#6. Demonstrate runtime polymorphism using a method play() in a base class Instrument. Derive classes Guitar and Piano that implement their own version of play().\n",
        "# Base class\n",
        "class Instrument:\n",
        "  def play(self):\n",
        "    print(\"Instrument sound.\")\n",
        "\n",
        "# Derived class 1\n",
        "class Guiter(Instrument):\n",
        "  def play(self):\n",
        "    print(\"Guiter sound.\")\n",
        "\n",
        "# Derived class 2\n",
        "class Piano(Instrument):\n",
        "  def play(self):\n",
        "    print(\"Piano sound.\")\n",
        "\n",
        "# Creating the objects\n",
        "guiter = Guiter()\n",
        "piano = Piano()\n",
        "\n",
        "# Function that demonstrates runtime polymorphism\n",
        "def instrument_play(name):\n",
        "  name.play()\n",
        "\n",
        "\n",
        "instrument_play(guiter)\n",
        "instrument_play(piano)"
      ],
      "metadata": {
        "colab": {
          "base_uri": "https://localhost:8080/"
        },
        "id": "pMLuu61GFT5_",
        "outputId": "283507ab-862c-4c61-914d-df1a6867a994"
      },
      "execution_count": null,
      "outputs": [
        {
          "output_type": "stream",
          "name": "stdout",
          "text": [
            "Guiter sound.\n",
            "Piano sound.\n"
          ]
        }
      ]
    },
    {
      "cell_type": "code",
      "source": [
        "#7.  Create a class MathOperations with a class method add_numbers() to add two numbers and a static method subtract_numbers() to subtract two numbers.\n",
        "class MathOperations:\n",
        "  @classmethod\n",
        "  def add_numbers(cls, x, y):\n",
        "    return x + y\n",
        "\n",
        "  @staticmethod\n",
        "  def subtract_numbers(num1, num2):\n",
        "    return num1 - num2\n",
        "\n",
        "result1 = MathOperations.add_numbers(5,5)\n",
        "result2 = MathOperations.subtract_numbers(10,5)\n",
        "print(\"Addition:\", result1)\n",
        "print(\"Subtraction:\", result2)"
      ],
      "metadata": {
        "colab": {
          "base_uri": "https://localhost:8080/"
        },
        "id": "neiEMLIWIPRv",
        "outputId": "f2cb5d19-7c69-4aab-93c5-f5fa5662c9b3"
      },
      "execution_count": null,
      "outputs": [
        {
          "output_type": "stream",
          "name": "stdout",
          "text": [
            "Addition: 10\n",
            "Subtraction: 5\n"
          ]
        }
      ]
    },
    {
      "cell_type": "code",
      "source": [
        "#8. Implement a class Person with a class method to count the total number of persons created.\n",
        "class Person:\n",
        "  total_persons = 0\n",
        "\n",
        "  def __init__(self, name):\n",
        "    self.name = name\n",
        "    Person.total_persons = Person.total_persons + 1\n",
        "\n",
        "  @classmethod\n",
        "  def get_total_persons(cls):\n",
        "    return cls.total_persons\n",
        "\n",
        "# Creating person object\n",
        "p1 = Person(\"Raj\")\n",
        "p2 = Person(\"Ravi\")\n",
        "p3 = Person(\"Ronak\")\n",
        "print(\"Total persons created:\", Person.get_total_persons())"
      ],
      "metadata": {
        "colab": {
          "base_uri": "https://localhost:8080/"
        },
        "id": "fow4fZNNLTp7",
        "outputId": "b2a200a8-a45f-47f1-88b9-3cc7b1c3e7aa"
      },
      "execution_count": null,
      "outputs": [
        {
          "output_type": "stream",
          "name": "stdout",
          "text": [
            "Total persons created: 3\n"
          ]
        }
      ]
    },
    {
      "cell_type": "code",
      "source": [
        "#9. Write a class Fraction with attributes numerator and denominator. Override the str method to display the fraction as \"numerator/denominator\".\n",
        "class Fraction:\n",
        "  def __init__(self, numerator, denominator):\n",
        "    self.numerator = numerator\n",
        "    self.denominator = denominator\n",
        "\n",
        "  def __str__(self):\n",
        "    return f\"{self.numerator}/{self.denominator}\"\n",
        "\n",
        "f1 = Fraction(3,4)\n",
        "f2 = Fraction(1,2)\n",
        "\n",
        "print(f1)\n",
        "print(f2)"
      ],
      "metadata": {
        "colab": {
          "base_uri": "https://localhost:8080/"
        },
        "id": "onQ-FmqjNTez",
        "outputId": "582f3b66-898f-4d01-e13a-e171120b179c"
      },
      "execution_count": null,
      "outputs": [
        {
          "output_type": "stream",
          "name": "stdout",
          "text": [
            "3/4\n",
            "1/2\n"
          ]
        }
      ]
    },
    {
      "cell_type": "code",
      "source": [
        "#10. Demonstrate operator overloading by creating a class Vector and overriding the add method to add two vectors.\n",
        "class Vector:\n",
        "  def __init__(self, x, y):\n",
        "    self.x = x\n",
        "    self.y = y\n",
        "\n",
        "  def __add__(self,other):\n",
        "    # Overloading the + operator\n",
        "    return Vector(self.x + other.x, self.y + other.y)\n",
        "\n",
        "  def __str__(self):\n",
        "    return f\"Vector({self.x},{self.y})\"\n",
        "\n",
        "#creating object\n",
        "v1 = Vector(1,2)\n",
        "v2 = Vector(3,4)\n",
        "\n",
        "# Adding two vectors using overloaded + operator\n",
        "v3 = v1 + v2\n",
        "print(v3)"
      ],
      "metadata": {
        "colab": {
          "base_uri": "https://localhost:8080/"
        },
        "id": "te8DW4BjOtqb",
        "outputId": "84207e9b-bd4f-4ed4-ffc9-771b39cbb4da"
      },
      "execution_count": null,
      "outputs": [
        {
          "output_type": "stream",
          "name": "stdout",
          "text": [
            "Vector(4,6)\n"
          ]
        }
      ]
    },
    {
      "cell_type": "code",
      "source": [
        "#11. Create a class Person with attributes name and age. Add a method greet() that prints \"Hello, my name is {name} and I am {age} years old.\"\n",
        "class Person:\n",
        "  def __init__(self, name, age):\n",
        "    self.name = name\n",
        "    self.age = age\n",
        "\n",
        "  def greet(self):\n",
        "    print(f\"Hello, my name is {self.name} and I am {self.age} years old.\")\n",
        "\n",
        "person = Person(\"Dhruv\",22)\n",
        "person.greet()"
      ],
      "metadata": {
        "colab": {
          "base_uri": "https://localhost:8080/"
        },
        "id": "e-9IWChSQvof",
        "outputId": "f42e70c8-aead-4f65-bf8e-976acdcd4d43"
      },
      "execution_count": null,
      "outputs": [
        {
          "output_type": "stream",
          "name": "stdout",
          "text": [
            "Hello, my name is Dhruv and I am 22 years old.\n"
          ]
        }
      ]
    },
    {
      "cell_type": "code",
      "source": [
        "#12. Implement a class Student with attributes name and grades. Create a method average_grade() to compute the average of the grades.\n",
        "class Student:\n",
        "  def __init__(self, name, grades):\n",
        "    self.name = name\n",
        "    self.grades = grades # grades should be a list of numbers\n",
        "\n",
        "  def average_grade(self):\n",
        "      return sum(self.grades) / len(self.grades)\n",
        "\n",
        "# creating object\n",
        "s1 = Student (\"Dhruv\", [92, 94, 96, 98])\n",
        "print(f\"{s1.name}'s average grade is {s1.average_grade()}\")"
      ],
      "metadata": {
        "colab": {
          "base_uri": "https://localhost:8080/"
        },
        "id": "YZxIFLBDR0x3",
        "outputId": "c64f5f5f-8032-408b-fcf6-5275f280e191"
      },
      "execution_count": null,
      "outputs": [
        {
          "output_type": "stream",
          "name": "stdout",
          "text": [
            "Dhruv's average grade is 95.0\n"
          ]
        }
      ]
    },
    {
      "cell_type": "code",
      "source": [
        "#13. Create a class Rectangle with methods set_dimensions() to set the dimensions and area() to calculate the area.\n",
        "class Rectangle:\n",
        "  def __init__(self):\n",
        "    self.length = 0\n",
        "    self.width = 0\n",
        "\n",
        "  def set_dimensions(self, length, width):\n",
        "    self.length = length\n",
        "    self.width = width\n",
        "\n",
        "  def area(self):\n",
        "    return self.length * self.width\n",
        "\n",
        "r = Rectangle()\n",
        "r.set_dimensions(5,6)\n",
        "print(\"Area of rectangle:\", r.area())"
      ],
      "metadata": {
        "colab": {
          "base_uri": "https://localhost:8080/"
        },
        "id": "hyPdBkveTAoX",
        "outputId": "5cbaabd2-1b3a-4106-fe02-8b9adff24b30"
      },
      "execution_count": null,
      "outputs": [
        {
          "output_type": "stream",
          "name": "stdout",
          "text": [
            "Area of rectangle: 30\n"
          ]
        }
      ]
    },
    {
      "cell_type": "code",
      "source": [
        "#14. Create a class Employee with a method calculate_salary() that computes the salary based on hours worked and hourly rate. Create a derived class Manager that adds a bonus to the salary.\n",
        "class Employee:\n",
        "  def __init__(self, name, hour_worked, hourly_rate):\n",
        "    self.name = name\n",
        "    self.hour_worked = hour_worked\n",
        "    self.hourly_rate = hourly_rate\n",
        "\n",
        "  def calculate_salary(self):\n",
        "    return self.hour_worked * self.hourly_rate\n",
        "\n",
        "class Manager(Employee):\n",
        "  def __init__(self, name, hour_worked, hourly_rate, bonus):\n",
        "    super().__init__(name, hour_worked, hourly_rate)\n",
        "    self.bonus = bonus\n",
        "\n",
        "  def calculate_salary(self):\n",
        "    base_salary = super().calculate_salary()\n",
        "    return base_salary + self.bonus\n",
        "\n",
        "employee = Employee(\"Dhruv\", 40, 1000)\n",
        "print(f\"{employee.name}'s salary: {employee.calculate_salary()}\")\n",
        "\n",
        "manager = Manager(\"Dhruv\", 40, 1000, 10000)\n",
        "print(f\"{employee.name}'s salary after adding bonus: {manager.calculate_salary()}\")"
      ],
      "metadata": {
        "colab": {
          "base_uri": "https://localhost:8080/"
        },
        "id": "WiO5-DpEUMrI",
        "outputId": "c072b591-de68-4384-ff84-c4021f6ff96b"
      },
      "execution_count": null,
      "outputs": [
        {
          "output_type": "stream",
          "name": "stdout",
          "text": [
            "Dhruv's salary: 40000\n",
            "Dhruv's salary after adding bonus: 50000\n"
          ]
        }
      ]
    },
    {
      "cell_type": "code",
      "source": [
        "#15. Create a class Product with attributes name, price, and quantity. Implement a method total_price() that calculates the total price of the product.\n",
        "class Product:\n",
        "  def __init__(self, name, price, quantity):\n",
        "    self.name = name\n",
        "    self.price = price\n",
        "    self.quantity = quantity\n",
        "\n",
        "  def total_price(self):\n",
        "    return self.price * self.quantity\n",
        "\n",
        "product = Product(\"TV\", 40000, 2)\n",
        "print(f\"Total price of {product.name}: {product.total_price()}\")"
      ],
      "metadata": {
        "colab": {
          "base_uri": "https://localhost:8080/"
        },
        "id": "K1-HP5ZZWUCv",
        "outputId": "12f575a1-2f04-439d-e3be-1c6d875c93ca"
      },
      "execution_count": null,
      "outputs": [
        {
          "output_type": "stream",
          "name": "stdout",
          "text": [
            "Total price of TV: 80000\n"
          ]
        }
      ]
    },
    {
      "cell_type": "code",
      "source": [
        "#16. Create a class Animal with an abstract method sound(). Create two derived classes Cow and Sheep that implement the sound() method.\n",
        "import abc\n",
        "class Animal:\n",
        "\n",
        "  @abc.abstractmethod\n",
        "  def sound(self):\n",
        "    pass\n",
        "\n",
        "class Cow(Animal):\n",
        "  def sound(self):\n",
        "    print(\"Cow Sound!\")\n",
        "\n",
        "class Sheep(Animal):\n",
        "  def sound(self):\n",
        "    print(\"Sheep Sound!\")\n",
        "\n",
        "cow = Cow()\n",
        "sheep = Sheep()\n",
        "cow.sound()\n",
        "sheep.sound()"
      ],
      "metadata": {
        "colab": {
          "base_uri": "https://localhost:8080/"
        },
        "id": "N3DtqHLZYbbC",
        "outputId": "fde205b1-441a-4a38-907b-5214d0bc8611"
      },
      "execution_count": null,
      "outputs": [
        {
          "output_type": "stream",
          "name": "stdout",
          "text": [
            "Cow Sound!\n",
            "Sheep Sound!\n"
          ]
        }
      ]
    },
    {
      "cell_type": "code",
      "source": [
        "#17. Create a class Book with attributes title, author, and year_published. Add a method get_book_info() that returns a formatted string with the book's details.\n",
        "class Book:\n",
        "  def __init__(self, title, author, year_published):\n",
        "    self.title = title\n",
        "    self.author = author\n",
        "    self.year_published = year_published\n",
        "\n",
        "  def get_book_info(self):\n",
        "    return f\"{self.title} by {self.author}, published in {self.year_published}.\"\n",
        "\n",
        "book = Book(\"Wise and Otherwise\", \"Sudha Murty\", 2002)\n",
        "print(book.get_book_info())"
      ],
      "metadata": {
        "colab": {
          "base_uri": "https://localhost:8080/"
        },
        "id": "deIkEfwXZleR",
        "outputId": "bc0be631-090e-413d-fab9-6e4ac3ea9bd7"
      },
      "execution_count": null,
      "outputs": [
        {
          "output_type": "stream",
          "name": "stdout",
          "text": [
            "Wise and Otherwise by Sudha Murty, published in 2002.\n"
          ]
        }
      ]
    },
    {
      "cell_type": "code",
      "source": [
        "#18. Create a class House with attributes address and price. Create a derived class Mansion that adds an attribute number_of_rooms.\n",
        "# Base class\n",
        "class House:\n",
        "  def __init__(self, address, price):\n",
        "    self.address = address\n",
        "    self.price = price\n",
        "\n",
        "  def get_info(self):\n",
        "    return f\"Address: {self.address}, Price: {self.price}\"\n",
        "\n",
        "# Derived class\n",
        "class Mansion(House):\n",
        "  def __init__(self, address, price, number_of_rooms):\n",
        "    super().__init__(address, price)\n",
        "    self.number_of_rooms = number_of_rooms\n",
        "\n",
        "  def get_info(self):\n",
        "    return f\"Address: {self.address}.\\nNumber of rooms: {self.number_of_rooms}\\nPrice: {self.price}\"\n",
        "\n",
        "m = Mansion(\"18/C, Silver galaxy\", 200000, 12)\n",
        "print(m.get_info())"
      ],
      "metadata": {
        "colab": {
          "base_uri": "https://localhost:8080/"
        },
        "id": "c8yeJrvkbvcC",
        "outputId": "61e8cc41-f8c8-4661-f89d-50ce61587252"
      },
      "execution_count": null,
      "outputs": [
        {
          "output_type": "stream",
          "name": "stdout",
          "text": [
            "Address: 18/C, Silver galaxy.\n",
            "Number of rooms: 12\n",
            "Price: 200000\n"
          ]
        }
      ]
    }
  ]
}